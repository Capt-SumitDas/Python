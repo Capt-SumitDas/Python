{
 "cells": [
  {
   "cell_type": "code",
   "execution_count": 2,
   "id": "8c9f86fd",
   "metadata": {},
   "outputs": [
    {
     "name": "stdout",
     "output_type": "stream",
     "text": [
      "this is my first command not 'Hello World'\n"
     ]
    }
   ],
   "source": [
    "#using print\n",
    "print(\"this is my first command not 'Hello World'\")"
   ]
  },
  {
   "cell_type": "code",
   "execution_count": 14,
   "id": "e7ffab1b",
   "metadata": {},
   "outputs": [
    {
     "name": "stdout",
     "output_type": "stream",
     "text": [
      "<class 'str'>\n",
      "<class 'int'>\n",
      "<class 'float'>\n",
      "<class 'bool'>\n"
     ]
    }
   ],
   "source": [
    "# using type\n",
    "x=\"sumit\"\n",
    "y=10\n",
    "z=5.10\n",
    "a=True\n",
    "\n",
    "print(type(x))\n",
    "print(type(y))\n",
    "print(type(z))\n",
    "print(type(a))"
   ]
  },
  {
   "cell_type": "code",
   "execution_count": 21,
   "id": "d423283b",
   "metadata": {},
   "outputs": [
    {
     "name": "stdout",
     "output_type": "stream",
     "text": [
      "Enter the value A : sumit\n",
      "A : sumit\n"
     ]
    }
   ],
   "source": [
    "# using input\n",
    "a = input(\"Enter the value A : \")\n",
    "print(\"A :\",a)"
   ]
  },
  {
   "cell_type": "code",
   "execution_count": 16,
   "id": "50cec59f",
   "metadata": {},
   "outputs": [],
   "source": [
    "# write a program to print\n",
    "# multiline values with variable\n",
    "# this is multiline comment  ctrl+/"
   ]
  },
  {
   "cell_type": "code",
   "execution_count": 17,
   "id": "b19e7635",
   "metadata": {
    "scrolled": true
   },
   "outputs": [
    {
     "name": "stdout",
     "output_type": "stream",
     "text": [
      "\n",
      "Here is a list of the Python keywords.  Enter any keyword to get more help.\n",
      "\n",
      "False               class               from                or\n",
      "None                continue            global              pass\n",
      "True                def                 if                  raise\n",
      "and                 del                 import              return\n",
      "as                  elif                in                  try\n",
      "assert              else                is                  while\n",
      "async               except              lambda              with\n",
      "await               finally             nonlocal            yield\n",
      "break               for                 not                 \n",
      "\n"
     ]
    }
   ],
   "source": [
    "help(\"keywords\")"
   ]
  },
  {
   "cell_type": "markdown",
   "id": "c6582f7c",
   "metadata": {},
   "source": [
    "# Data type"
   ]
  },
  {
   "cell_type": "code",
   "execution_count": 19,
   "id": "9ffc46bb",
   "metadata": {},
   "outputs": [],
   "source": [
    "# Data types are used before the variable, to know which type of values are stored in variable\n",
    "# data types are actullay classes and variables are instance (object) of these classes\n",
    "# 1)Numeric > integer , Float, complex number\n",
    "# 2)Sequence Type > List, Tuple, String\n",
    "# 3)Boolean > True , false\n",
    "# 4)Set\n",
    "# 5)Dictionary"
   ]
  },
  {
   "cell_type": "code",
   "execution_count": 25,
   "id": "9b9f2aa6",
   "metadata": {},
   "outputs": [
    {
     "name": "stdout",
     "output_type": "stream",
     "text": [
      "<class 'int'>\n",
      "<class 'float'>\n",
      "<class 'complex'>\n"
     ]
    }
   ],
   "source": [
    "# 1)Numeric\n",
    "#int datatype\n",
    "a=10\n",
    "print(type(a))\n",
    "    \n",
    "#float datatype\n",
    "b=10.5\n",
    "print(type(b))\n",
    "        \n",
    "#complex datatype\n",
    "c= 2+4j\n",
    "print(type(c))\n",
    "    "
   ]
  },
  {
   "cell_type": "code",
   "execution_count": 29,
   "id": "a0746267",
   "metadata": {},
   "outputs": [
    {
     "name": "stdout",
     "output_type": "stream",
     "text": [
      "<class 'list'>\n",
      "<class 'str'>\n",
      "<class 'tuple'>\n"
     ]
    }
   ],
   "source": [
    "# 2)Sequence\n",
    "#list datatype\n",
    "l1 =[ 1,2,3,4,5]\n",
    "print(type(l1))\n",
    "\n",
    "#string datatype\n",
    "a= \"Sumit Das\"\n",
    "print(type(a))\n",
    "\n",
    "#Tuple datatype\n",
    "z=(1,2,3,4,5,6,)\n",
    "print(type(z))"
   ]
  },
  {
   "cell_type": "code",
   "execution_count": 30,
   "id": "a639fb96",
   "metadata": {},
   "outputs": [
    {
     "name": "stdout",
     "output_type": "stream",
     "text": [
      "<class 'bool'>\n",
      "<class 'bool'>\n"
     ]
    }
   ],
   "source": [
    "# 3)Boolean datatype\n",
    "a= True\n",
    "print(type(a))\n",
    "b= False\n",
    "print(type(b))"
   ]
  },
  {
   "cell_type": "code",
   "execution_count": 31,
   "id": "4a66a7f3",
   "metadata": {},
   "outputs": [
    {
     "name": "stdout",
     "output_type": "stream",
     "text": [
      "<class 'set'>\n"
     ]
    }
   ],
   "source": [
    "# 4)Set datatype\n",
    "f= {1,2,3,4,5}\n",
    "print(type(f))"
   ]
  },
  {
   "cell_type": "code",
   "execution_count": 33,
   "id": "8427f7f6",
   "metadata": {
    "scrolled": true
   },
   "outputs": [
    {
     "name": "stdout",
     "output_type": "stream",
     "text": [
      "<class 'dict'>\n"
     ]
    }
   ],
   "source": [
    "# 5)Dictionary\n",
    "x={\"key\":\"value\", \"name\":\"sumit\"}\n",
    "print(type(x))"
   ]
  },
  {
   "cell_type": "markdown",
   "id": "2c686f89",
   "metadata": {},
   "source": [
    "# Variables"
   ]
  },
  {
   "cell_type": "code",
   "execution_count": 43,
   "id": "0f1cead4",
   "metadata": {},
   "outputs": [],
   "source": [
    "#Variables are names to store some values\n",
    "#It can store integers, float, string, boolean, set, tuple, list, and dictionary\n",
    "#Rules of variables\n",
    "    #Variable should start with Alphabet only\n",
    "    #Variable name should not have whitespaces\n",
    "    #we cannot use datatypes name as a variable name\n",
    "    #variable name are significant5"
   ]
  },
  {
   "cell_type": "code",
   "execution_count": 39,
   "id": "4befb642",
   "metadata": {},
   "outputs": [
    {
     "name": "stdout",
     "output_type": "stream",
     "text": [
      "10\n",
      "<class 'int'>\n",
      "10.5\n",
      "<class 'float'>\n",
      "sumit\n",
      "<class 'str'>\n",
      "[1, 2, 3, 4, 5, 6]\n",
      "<class 'list'>\n",
      "(1, 2, 3, 4, 5)\n",
      "<class 'tuple'>\n"
     ]
    }
   ],
   "source": [
    "#creating a variable\n",
    "#integer value to the variable\n",
    "a=10\n",
    "print(a)\n",
    "print(type(a))\n",
    "\n",
    "#float value to the variable\n",
    "b=10.5\n",
    "print(b)\n",
    "print(type(b))\n",
    "\n",
    "#string value to the variable\n",
    "c=\"sumit\"\n",
    "print(c)\n",
    "print(type(c))\n",
    "\n",
    "#list store in variable\n",
    "li=[1,2,3,4,5,6]\n",
    "print(li)\n",
    "print(type(li))\n",
    "\n",
    "#tuple store in variable\n",
    "t=(1,2,3,4,5)\n",
    "print(t)\n",
    "print(type(t))"
   ]
  },
  {
   "cell_type": "markdown",
   "id": "b33a3c7b",
   "metadata": {},
   "source": [
    "# Type Conversion\n"
   ]
  },
  {
   "cell_type": "code",
   "execution_count": 42,
   "id": "cedecfff",
   "metadata": {},
   "outputs": [
    {
     "name": "stdout",
     "output_type": "stream",
     "text": [
      "Enter the value of A :10\n",
      "A : 10\n",
      "<class 'int'>\n"
     ]
    }
   ],
   "source": [
    "#Converting from one datatype to another type is called Type Conversion/ Type casting\n",
    "a = int(input(\"Enter the value of A :\"))\n",
    "print(\"A :\",a)\n",
    "print(type(a))"
   ]
  },
  {
   "cell_type": "markdown",
   "id": "c98e671f",
   "metadata": {},
   "source": [
    "# Operators"
   ]
  },
  {
   "cell_type": "code",
   "execution_count": 44,
   "id": "f76cab69",
   "metadata": {},
   "outputs": [],
   "source": [
    "#Operators are used to erform operations on variables and values in python\n",
    "#Types of Operators:\n",
    "# 1) Arithmetic operators\n",
    "# 2) Assignment operators\n",
    "# 3) Comparison operators\n",
    "# 4) Logical operators\n",
    "# 5) Identity operators\n",
    "# 6) Membership operators"
   ]
  },
  {
   "cell_type": "code",
   "execution_count": 49,
   "id": "e7e01a65",
   "metadata": {},
   "outputs": [
    {
     "name": "stdout",
     "output_type": "stream",
     "text": [
      "Answer :  30\n",
      "Answer :  -10\n",
      "Answer :  200\n",
      "Answer :  0.5\n",
      "Answer :  10\n",
      "Answer :  100000000000000000000\n",
      "Answer :  0\n"
     ]
    }
   ],
   "source": [
    "# 1) Arithmetic operators\n",
    "#Addition Operator\n",
    "x=10\n",
    "y=20\n",
    "z=x+y\n",
    "print(\"Answer : \",z)\n",
    "\n",
    "#Subtraction Operator\n",
    "x=10\n",
    "y=20\n",
    "z=x-y\n",
    "print(\"Answer : \",z)\n",
    "\n",
    "#Multiplication Operator\n",
    "x=10\n",
    "y=20\n",
    "z=x*y\n",
    "print(\"Answer : \",z)\n",
    "\n",
    "#Division\n",
    "x=10\n",
    "y=20\n",
    "z=x/y\n",
    "print(\"Answer : \",z)\n",
    "\n",
    "#Modulus\n",
    "x=10\n",
    "y=20\n",
    "z=x%y\n",
    "print(\"Answer : \",z)\n",
    "\n",
    "#Exponentiation\n",
    "x=10\n",
    "y=20\n",
    "z=x**y\n",
    "print(\"Answer : \",z)\n",
    "\n",
    "#Floor division\n",
    "x=10\n",
    "y=20\n",
    "z=x//y\n",
    "print(\"Answer : \",z)"
   ]
  },
  {
   "cell_type": "code",
   "execution_count": 40,
   "id": "6419e72e",
   "metadata": {},
   "outputs": [
    {
     "name": "stdout",
     "output_type": "stream",
     "text": [
      "Equal : 5\n",
      "Addition : 10\n",
      "Subtraction : 0\n",
      "Multiplication : 25\n",
      "Division : 1.0\n",
      "Modulus : 0\n",
      "Exponentiation : 3125\n",
      "Floor : 1\n",
      "X : 5\n",
      "X : 5\n",
      "X : 0\n",
      "X : 0\n",
      "X : 160\n"
     ]
    }
   ],
   "source": [
    "# 2) Assignment operators\n",
    "#Equal to Operator\n",
    "x= 5\n",
    "print(\"Equal :\",x)\n",
    "\n",
    "#Addition and Equal operator\n",
    "x=5 \n",
    "x+=5 #x=x+5\n",
    "print(\"Addition :\",x)\n",
    "\n",
    "#Subtraction and Equal Operator\n",
    "x=5 \n",
    "x-=5 #x=x-5\n",
    "print(\"Subtraction :\",x)\n",
    "\n",
    "#Multiplication and Equal Operator\n",
    "x=5 \n",
    "x*=5 #x=x*5\n",
    "print(\"Multiplication :\",x)\n",
    "\n",
    "#Division and Equal Operator\n",
    "x=5 \n",
    "x/=5 #x=x/5\n",
    "print(\"Division :\",x)\n",
    "\n",
    "#Modulus and Equal Operator\n",
    "x=5 \n",
    "x%=5 #x=x%5\n",
    "print(\"Modulus :\",x)\n",
    "\n",
    "#Exponentiation and Equal Operator\n",
    "x=5 \n",
    "x**=5 #x=x**5\n",
    "print(\"Exponentiation :\",x)\n",
    "\n",
    "#Floor and Equal Operator\n",
    "x=5 \n",
    "x//=5 #x=x//5\n",
    "print(\"Floor :\",x)\n",
    "\n",
    "# Bitwise AND Operator\n",
    "x=5 \n",
    "x&=5 #x=x&5\n",
    "print(\"X :\",x)\n",
    "\n",
    "#Bitwise OR Operator\n",
    "x=5 \n",
    "x|=5 #x=x|5\n",
    "print(\"X :\",x)\n",
    "\n",
    "#Bitwise XOR Operator\n",
    "x=5 \n",
    "x^=5 #x=x^5\n",
    "print(\"X :\",x)\n",
    "\n",
    "#Left shit Operator\n",
    "x=5 \n",
    "x>>=5 #x=x>>5\n",
    "print(\"X :\",x)\n",
    "\n",
    "#Right shift Operator\n",
    "x=5 \n",
    "x<<=5 #x=x<<5\n",
    "print(\"X :\",x)\n"
   ]
  },
  {
   "cell_type": "code",
   "execution_count": 63,
   "id": "fbdf6b24",
   "metadata": {},
   "outputs": [
    {
     "name": "stdout",
     "output_type": "stream",
     "text": [
      "True\n",
      "True\n",
      "True\n",
      "True\n",
      "True\n",
      "True\n"
     ]
    }
   ],
   "source": [
    "# 3) Comparison operators\n",
    "#Equal to Equal to operator\n",
    "x=5\n",
    "y=5\n",
    "print(x==y)\n",
    "\n",
    "#not Equal to operator\n",
    "x=5\n",
    "y=6\n",
    "print(x!=y)\n",
    "\n",
    "#Greater than operator\n",
    "x=6\n",
    "y=5\n",
    "print(x>y)\n",
    "\n",
    "#Less than operator\n",
    "x=5\n",
    "y=6\n",
    "print(x<y)\n",
    "\n",
    "#Greater than or equal to operator\n",
    "x=5\n",
    "y=5\n",
    "print(x>=y)\n",
    "\n",
    "#Less than or equal to operator\n",
    "x=5\n",
    "y=5\n",
    "print(x<=y)"
   ]
  },
  {
   "cell_type": "code",
   "execution_count": 100,
   "id": "5f893e69",
   "metadata": {},
   "outputs": [
    {
     "name": "stdout",
     "output_type": "stream",
     "text": [
      "True\n",
      "False\n",
      "False\n"
     ]
    }
   ],
   "source": [
    "# 4) Logical operators\n",
    "#Returns True if both statements are true\n",
    "x=5\n",
    "print(x>3 and x<10)\n",
    "\n",
    "# Returns True if one of the statements is true\n",
    "x=10\n",
    "print(x<3 or x <10)\n",
    "\n",
    "# Reverse the result, returns False if the result is true\n",
    "x=5\n",
    "print (not(x>3 and x <10))\n"
   ]
  },
  {
   "cell_type": "code",
   "execution_count": 106,
   "id": "d2ea685c",
   "metadata": {},
   "outputs": [
    {
     "name": "stdout",
     "output_type": "stream",
     "text": [
      "True\n",
      "True\n"
     ]
    }
   ],
   "source": [
    "# 5) Identity operators\n",
    "# Returns True if both variables are the same object\n",
    "x = 5\n",
    "y = 5\n",
    "print(x is y)\n",
    "\n",
    "# Returns True if both variables are not the same object\n",
    "x = 5\n",
    "y = 6\n",
    "print(x is not y)"
   ]
  },
  {
   "cell_type": "code",
   "execution_count": 108,
   "id": "9032695c",
   "metadata": {},
   "outputs": [
    {
     "name": "stdout",
     "output_type": "stream",
     "text": [
      "False\n",
      "True\n"
     ]
    }
   ],
   "source": [
    "# 6) Membership operators\n",
    "# Returns True if a sequence with the specified value is present in the object\n",
    "x=[\"Apple\", \"Mango\"]\n",
    "print(\"banana\" in x)\n",
    "\n",
    "# Returns True if a sequence with the specified value is not present in the object\n",
    "\n",
    "print(\"banana\" not in x)"
   ]
  },
  {
   "cell_type": "code",
   "execution_count": null,
   "id": "7776c3db",
   "metadata": {},
   "outputs": [],
   "source": [
    "#Operator Precedence\n",
    "# ()                                     higher \n",
    "# **                                       |   \n",
    "# +x,-x,~x                                 |\n",
    "# *,/,//,%                                 |\n",
    "# +,-                                      |\n",
    "# <<,>>                                    |\n",
    "# &                                        |\n",
    "# ^                                        |\n",
    "# |                                        |\n",
    "# ==,!=,<,<=,>,>=,is,is not, in, not in    |\n",
    "# not                                      |\n",
    "# and                                      |\n",
    "# or                                      lowest"
   ]
  },
  {
   "cell_type": "code",
   "execution_count": 110,
   "id": "f9578215",
   "metadata": {
    "scrolled": true
   },
   "outputs": [
    {
     "name": "stdout",
     "output_type": "stream",
     "text": [
      "13\n"
     ]
    }
   ],
   "source": [
    "Value = (1+1)*2**4//3+4-1\n",
    "print(Value)"
   ]
  },
  {
   "cell_type": "markdown",
   "id": "c74c5633",
   "metadata": {},
   "source": [
    "# Conditional Statement"
   ]
  },
  {
   "cell_type": "code",
   "execution_count": 6,
   "id": "1cf17c1c",
   "metadata": {},
   "outputs": [
    {
     "name": "stdout",
     "output_type": "stream",
     "text": [
      "value of variable is 10\n",
      "Good Bye\n"
     ]
    }
   ],
   "source": [
    "# Conditional statement in python perform different computations or actions\n",
    "# depending on whether a specific Boolean constraint evaluates to true or false.\n",
    "# Conditional statements are handled by IF statement in Python\n",
    "\n",
    "x = 10 \n",
    "if(x==10):   #your condition is getting True\n",
    "    print(\"value of variable is 10\")\n",
    "else:\n",
    "    print(\"Good Bye\")\n",
    "\n",
    "x = 10 \n",
    "if(x==12):   #your condition is getting false\n",
    "    print(\"value of variable is 10\")\n",
    "else:\n",
    "    print(\"Good Bye\")"
   ]
  },
  {
   "cell_type": "code",
   "execution_count": 26,
   "id": "04b55d41",
   "metadata": {},
   "outputs": [
    {
     "name": "stdout",
     "output_type": "stream",
     "text": [
      "Enter your percentage : 60\n",
      "1st Divison\n"
     ]
    }
   ],
   "source": [
    "p = int(input(\"Enter your percentage : \"))\n",
    "if (p >= 70 and p<=100):\n",
    "    print(\"Distinction\")\n",
    "elif (p >= 60 and p<70):\n",
    "    print(\"1st Divison\")\n",
    "elif (p >= 50 and p<60):\n",
    "    print(\"2nd Divison\")\n",
    "elif (p >= 33 and p<50):\n",
    "    print(\"3rd Divison\")\n",
    "elif (p >= 0 and p<33):\n",
    "    print(\"you are fail better luck next time\")\n",
    "else:\n",
    "    print(\"You are enter wrong input\")"
   ]
  },
  {
   "cell_type": "code",
   "execution_count": 32,
   "id": "42e7895f",
   "metadata": {},
   "outputs": [
    {
     "name": "stdout",
     "output_type": "stream",
     "text": [
      "Enter your Age150\n",
      "Enter your weight10\n",
      "You are not eligable because of your weight\n"
     ]
    }
   ],
   "source": [
    "#Nested If\n",
    "\n",
    "age = int(input(\"Enter your Age\"))\n",
    "\n",
    "\n",
    "if age >=18:\n",
    "    weight = int(input(\"Enter your weight\"))\n",
    "    if weight >= 50:\n",
    "        print(\"You are eligable for Blood Donation\")\n",
    "    else:\n",
    "        print(\"You are not eligable because of your weight\")\n",
    "else:\n",
    "    print(\"you are not eligable because of your age \")"
   ]
  },
  {
   "cell_type": "markdown",
   "id": "f6d1272b",
   "metadata": {},
   "source": [
    "# Loop"
   ]
  },
  {
   "cell_type": "code",
   "execution_count": 45,
   "id": "e3876be7",
   "metadata": {},
   "outputs": [
    {
     "name": "stdout",
     "output_type": "stream",
     "text": [
      "N : 20\n",
      "sum : 20\n",
      "sum : 39\n",
      "sum : 57\n",
      "sum : 74\n",
      "sum : 90\n",
      "sum : 105\n",
      "sum : 119\n",
      "sum : 132\n",
      "sum : 144\n",
      "sum : 155\n",
      "sum : 165\n",
      "sum : 174\n",
      "sum : 182\n",
      "sum : 189\n",
      "sum : 195\n",
      "sum : 200\n",
      "sum : 204\n",
      "sum : 207\n",
      "sum : 209\n",
      "sum : 210\n",
      "Bye\n"
     ]
    }
   ],
   "source": [
    "# Loop control statement change execution from its normal sequence.\n",
    "# When execution leaves a scope, all automatic objects that were created in\n",
    "# that scope are destroyed.\n",
    "\n",
    "# while loop\n",
    "sum = 0\n",
    "n = int(input(\"N : \"))\n",
    "while n> 0:\n",
    "    sum = sum+n\n",
    "    n-=1\n",
    "    print(\"sum :\", sum)\n",
    "print(\"Bye\")"
   ]
  },
  {
   "cell_type": "code",
   "execution_count": 48,
   "id": "782aa2c9",
   "metadata": {},
   "outputs": [
    {
     "name": "stdout",
     "output_type": "stream",
     "text": [
      "N : 2\n",
      "sum : 2\n",
      "sum : 3\n",
      "loop finished\n",
      "Bye\n"
     ]
    }
   ],
   "source": [
    "# while loop with else part\n",
    "\n",
    "sum = 0\n",
    "n = int(input(\"N : \"))\n",
    "while n> 0:\n",
    "    sum = sum+n\n",
    "    n-=1\n",
    "    print(\"sum :\", sum)\n",
    "else:\n",
    "    print(\"loop finished\")\n",
    "print(\"Bye\")"
   ]
  },
  {
   "cell_type": "code",
   "execution_count": 49,
   "id": "a4ef582f",
   "metadata": {},
   "outputs": [
    {
     "name": "stdout",
     "output_type": "stream",
     "text": [
      "apple = 5\n",
      "banana = 6\n",
      "orange = 6\n",
      "grapes = 6\n",
      "coconut = 7\n"
     ]
    }
   ],
   "source": [
    "#Simple For loop\n",
    "\n",
    "word = [\"apple\", \"banana\",\"orange\",\"grapes\",\"coconut\"]\n",
    "for i in word:\n",
    "    print(i, \"=\" ,len(i))"
   ]
  },
  {
   "cell_type": "code",
   "execution_count": 53,
   "id": "95751219",
   "metadata": {},
   "outputs": [
    {
     "name": "stdout",
     "output_type": "stream",
     "text": [
      "*\n",
      "**\n",
      "***\n",
      "****\n",
      "*****\n"
     ]
    }
   ],
   "source": [
    "#nested for loop\n",
    "\n",
    "for i in range(1,6):\n",
    "    for j in range(i):\n",
    "        print(\"*\", end=\"\")\n",
    "    print()"
   ]
  },
  {
   "cell_type": "code",
   "execution_count": 54,
   "id": "23c432b2",
   "metadata": {},
   "outputs": [
    {
     "name": "stdout",
     "output_type": "stream",
     "text": [
      "*****\n",
      "****\n",
      "***\n",
      "**\n",
      "*\n"
     ]
    }
   ],
   "source": [
    "for i in range(5,0,-1):\n",
    "    for j in range(i):\n",
    "        print(\"*\", end=\"\")\n",
    "    print()"
   ]
  },
  {
   "cell_type": "code",
   "execution_count": 4,
   "id": "ad27b573",
   "metadata": {},
   "outputs": [
    {
     "name": "stdout",
     "output_type": "stream",
     "text": [
      "Current Letter :  S\n",
      "Current Letter :  u\n",
      "Current Letter :  m\n",
      "Current Letter :  i\n",
      "Current Letter :  t\n",
      "bye\n"
     ]
    }
   ],
   "source": [
    "#Looping Control Statement\n",
    "#Break statement: Terminates the loop statement and transfer execution to the\n",
    "                # statement immediately following loop\n",
    "\n",
    "for letter in \"Sumit Das\":\n",
    "    if letter == \" \":\n",
    "        #here i am using break statement to break execution\n",
    "        break\n",
    "    print(\"Current Letter : \",letter)\n",
    "print(\"bye\")\n"
   ]
  },
  {
   "cell_type": "code",
   "execution_count": 5,
   "id": "d124727e",
   "metadata": {},
   "outputs": [
    {
     "name": "stdout",
     "output_type": "stream",
     "text": [
      "current letter :  S\n",
      "current letter :  u\n",
      "current letter :  m\n",
      "current letter :  i\n",
      "current letter :  t\n",
      "current letter :  D\n",
      "current letter :  a\n",
      "current letter :  s\n"
     ]
    }
   ],
   "source": [
    "#Continue statement:Causes the loop to skip the remainder of its body and \n",
    "#                   immedately retest its condition prior to reiterating\n",
    "\n",
    "for letter in \"Sumit Das\":\n",
    "    if letter == \" \":\n",
    "        #Contine statement will skip the \"space\"\n",
    "        continue\n",
    "    print(\"current letter : \",letter)"
   ]
  },
  {
   "cell_type": "code",
   "execution_count": 6,
   "id": "764325ed",
   "metadata": {},
   "outputs": [
    {
     "name": "stdout",
     "output_type": "stream",
     "text": [
      "current letter :  S\n",
      "current letter :  u\n",
      "current letter :  m\n",
      "current letter :  i\n",
      "current letter :  t\n",
      "current letter :   \n",
      "current letter :  D\n",
      "current letter :  a\n",
      "current letter :  s\n"
     ]
    }
   ],
   "source": [
    "#Pass statement: The pass statement in python is used when a statement is \n",
    "# required synatactically but you do not want any command or code to execute\n",
    "\n",
    "for letter in \"Sumit Das\":\n",
    "    if letter == \" \":\n",
    "        #Contine statement will skip the \"space\"\n",
    "        pass\n",
    "    print(\"current letter : \",letter)"
   ]
  },
  {
   "cell_type": "markdown",
   "id": "4e4b2b7a",
   "metadata": {},
   "source": [
    "# String"
   ]
  },
  {
   "cell_type": "code",
   "execution_count": 9,
   "id": "aaf2b9bc",
   "metadata": {},
   "outputs": [
    {
     "name": "stdout",
     "output_type": "stream",
     "text": [
      "Sumit\n",
      "Sumit\n",
      "My name is Sumit Das,\n",
      "I'm pursuing Btech computer science engineering\n",
      "i'm very good in python\n",
      "\n"
     ]
    }
   ],
   "source": [
    "#Strings in python are surrounded by either single quotation marks, or duble quotation marks.\n",
    "#String is the collection of character\n",
    "#String allow any datatype value to be store\n",
    "\n",
    "# Single Quote in string\n",
    "print('Sumit')\n",
    "\n",
    "# Double Quote in string\n",
    "print(\"Sumit\")\n",
    "\n",
    "#Multiline String\n",
    "a =\"\"\"My name is Sumit Das,\n",
    "I'm pursuing Btech computer science engineering\n",
    "i'm very good in python\n",
    "\"\"\"\n",
    "print(a)"
   ]
  },
  {
   "cell_type": "code",
   "execution_count": 11,
   "id": "a34bf7d9",
   "metadata": {},
   "outputs": [
    {
     "name": "stdout",
     "output_type": "stream",
     "text": [
      "Sumit Das\n",
      "Update string :  Sumit King\n"
     ]
    }
   ],
   "source": [
    "#update string\n",
    "\n",
    "a = \"Sumit Das\"\n",
    "print(a)\n",
    "print(\"Update string : \",a [:6]+ \"King\")"
   ]
  },
  {
   "cell_type": "code",
   "execution_count": 16,
   "id": "d9c2ea82",
   "metadata": {},
   "outputs": [
    {
     "name": "stdout",
     "output_type": "stream",
     "text": [
      "Index 1 :  u\n",
      "Index between 1 to 8 :  umit Da\n",
      "Index till 5 :  Sumit\n",
      "last value :  a\n"
     ]
    }
   ],
   "source": [
    "# String Slicing\n",
    "a = \"Sumit Das\"\n",
    "\n",
    "#Access the value of Index 1\n",
    "print(\"Index 1 : \",a[1])\n",
    "\n",
    "#Access the value between index 1 to 8\n",
    "print(\"Index between 1 to 8 : \", a[1:8])\n",
    "\n",
    "#Access the value till index 5\n",
    "print(\"Index till 5 : \", a[:5])\n",
    "\n",
    "#Access the last value from string\n",
    "print(\"last value : \", a[-2])"
   ]
  },
  {
   "cell_type": "code",
   "execution_count": 27,
   "id": "9d080708",
   "metadata": {},
   "outputs": [
    {
     "name": "stdout",
     "output_type": "stream",
     "text": [
      "Capitalize :  Sumit das\n",
      "Casefold :  sumit das\n",
      "Center :                      Sumit Das                     \n",
      "Count :  2\n"
     ]
    }
   ],
   "source": [
    "#String In-Built Methods\n",
    "\n",
    "#Capitalize() : This method converts the first character in string\n",
    "\n",
    "a = \"sumit das\"\n",
    "x = a.capitalize()\n",
    "print(\"Capitalize : \",x)\n",
    "\n",
    "#Casefold() : This method convert all capital letter into small\n",
    "\n",
    "a = \"Sumit Das\"\n",
    "x = a.casefold()\n",
    "print(\"Casefold : \",x)\n",
    "\n",
    "#Center() : This is use to bring your into center\n",
    "\n",
    "a = \"Sumit Das\"\n",
    "x = a.center(50)\n",
    "print(\"Center : \",x)\n",
    "\n",
    "#Count() : This method is used to count the repeated word in string\n",
    "\n",
    "a = \"My name is Sumit das and peoples call me Sumit\"\n",
    "x = a.count(\"Sumit\") #count is case senstive\n",
    "print(\"Count : \",x)"
   ]
  },
  {
   "cell_type": "code",
   "execution_count": 31,
   "id": "c8f5ffeb",
   "metadata": {},
   "outputs": [
    {
     "name": "stdout",
     "output_type": "stream",
     "text": [
      "True\n",
      "True\n"
     ]
    }
   ],
   "source": [
    "#Compare String\n",
    "a = \"Sumit Das\"\n",
    "b = \"Sumit Das\"\n",
    "result= a == b\n",
    "print(result)\n",
    "\n",
    "a = 'A'\n",
    "b = 'B'\n",
    "result = a<b  # 'B' is bigger than 'A' acoding to dictonary\n",
    "print(result)"
   ]
  },
  {
   "cell_type": "markdown",
   "id": "f2334941",
   "metadata": {},
   "source": [
    "# List"
   ]
  },
  {
   "cell_type": "code",
   "execution_count": 3,
   "id": "607377e0",
   "metadata": {},
   "outputs": [
    {
     "name": "stdout",
     "output_type": "stream",
     "text": [
      "Integer list :  [1, 2, 3, 4, 5, 6, 7, 8, 9, 10]\n",
      "String list :  ['Apple', 'Mango', 'Orange']\n",
      "Duplicate value :  [1, 2, 3, 4, 5, 6, 1, 2, 3, 4]\n"
     ]
    }
   ],
   "source": [
    "# List is Collection in Python, which store the data into sequence.\n",
    "# List store multiple datatype value like String, int, Float, Character\n",
    "# List works on index value which start from zero(0)\n",
    "# List is mutable(Changeable at runtime) data structure.\n",
    "\n",
    "\n",
    "\n",
    "# this list store the integer value\n",
    "l1=[1,2,3,4,5,6,7,8,9,10]\n",
    "\n",
    "# This list store the string value\n",
    "l2=[\"Apple\",\"Mango\",\"Orange\"]\n",
    "\n",
    "print(\"Integer list : \",l1)\n",
    "print(\"String list : \",l2)\n",
    "\n",
    "#Duplicate values in list\n",
    "l1=[1,2,3,4,5,6,1,2,3,4]\n",
    "print(\"Duplicate value : \",l1)\n"
   ]
  },
  {
   "cell_type": "code",
   "execution_count": 15,
   "id": "defc0a03",
   "metadata": {},
   "outputs": [
    {
     "name": "stdout",
     "output_type": "stream",
     "text": [
      "['Apple', 'Mango', 'Orange']\n",
      "[1, 2, 3, 4, 5, 6, 7, 8, 9, 10]\n",
      "6\n",
      "[2, 3, 4, 5, 6]\n",
      "10\n"
     ]
    }
   ],
   "source": [
    "#List Contructor\n",
    "\n",
    "l1=list((\"Apple\",\"Mango\",\"Orange\")) # Note there is Double Brackets\n",
    "print(l1)\n",
    "\n",
    "\n",
    "# list Slicing\n",
    "l1=[1,2,3,4,5,6,7,8,9,10]\n",
    "print(l1)\n",
    "\n",
    "#Access the index value\n",
    "print(l1[5])\n",
    "\n",
    "#Access the index value between 1 to 6\n",
    "print(l1[1:6])\n",
    "\n",
    "#Access the last index value\n",
    "print(l1[-1])"
   ]
  },
  {
   "cell_type": "code",
   "execution_count": 39,
   "id": "561cd0ec",
   "metadata": {},
   "outputs": [
    {
     "name": "stdout",
     "output_type": "stream",
     "text": [
      "['Apple', 'Mango', 'Orange', 'Cherry', 'Kiwi']\n",
      "change list :  ['Apple', 'Grapes', 'watermelon', 'Cherry', 'Kiwi']\n",
      "Insert list :  ['Apple', 'Grapes', 'litchi', 'watermelon', 'Cherry', 'Kiwi']\n",
      "Extened list :  ['Apple', 'Grapes', 'litchi', 'watermelon', 'Cherry', 'Kiwi', 1, 2, 3, 4, 5, 6, 7, 8, 9, 10]\n",
      "Remove mango in the  list :  ['Apple', 'Orange', 'Cherry', 'Kiwi']\n",
      "Remove last item in the  list :  [1, 2, 3, 4, 5, 6, 7, 8, 9]\n",
      "Remove 4 in the  list :  [1, 2, 3, 5, 6, 7, 8, 9, 10]\n",
      "Updated list :  []\n"
     ]
    }
   ],
   "source": [
    "#List item Change\n",
    "\n",
    "l1=[\"Apple\",\"Mango\",\"Orange\",\"Cherry\",\"Kiwi\"]\n",
    "print(l1)\n",
    "\n",
    "# Change the item in list\n",
    "l1[1:3]=[\"Grapes\",\"watermelon\"]\n",
    "print(\"change list : \",l1)\n",
    "\n",
    "\n",
    "#Insert into list\n",
    "l1.insert(2,\"litchi\")\n",
    "print(\"Insert list : \",l1)\n",
    "\n",
    "\n",
    "# Extend the list\n",
    "l2 = [1,2,3,4,5,6,7,8,9,10]\n",
    "l1.extend(l2)\n",
    "print(\"Extened list : \",l1)\n",
    "\n",
    "\n",
    "\n",
    "#Remove item from list\n",
    "l1 =[\"Apple\",\"Mango\",\"Orange\",\"Cherry\",\"Kiwi\"]\n",
    "l1.remove(\"Mango\")\n",
    "print(\"Remove mango in the  list : \",l1)\n",
    "\n",
    "\n",
    "#pop(): This method is used to remove last value from list\n",
    "l1 = [1,2,3,4,5,6,7,8,9,10]\n",
    "l1.pop()\n",
    "print(\"Remove last item in the  list : \",l1)\n",
    "\n",
    "#del() : This method is used to remove item from the index\n",
    "l1 = [1,2,3,4,5,6,7,8,9,10]\n",
    "del l1[3]\n",
    "print(\"Remove 4 in the  list : \",l1)\n",
    "\n",
    "#clear() : This method is used to clear the list\n",
    "l1 = [1,2,3,4,5,6,7,8,9,10]\n",
    "l1.clear()\n",
    "print(\"Updated list : \",l1)"
   ]
  },
  {
   "cell_type": "markdown",
   "id": "efe84861",
   "metadata": {},
   "source": [
    "# Tuple"
   ]
  },
  {
   "cell_type": "code",
   "execution_count": 15,
   "id": "cfff8dd1",
   "metadata": {},
   "outputs": [
    {
     "name": "stdout",
     "output_type": "stream",
     "text": [
      "('Apple', 'Mango', 'Orange', 'Cherry', 1, 2, 3, 4, 5, 6, 10.5, 12.5, 5, 'Apple')\n",
      "\n",
      "lenth of Tuple :  14\n",
      "\n",
      "Index value :  Cherry\n",
      "\n",
      "Index between :  ('Mango', 'Orange', 'Cherry', 1, 2)\n",
      "\n",
      "Index  last value:  Apple\n",
      "\n",
      "Value till index :  ('Apple', 'Mango', 'Orange', 'Cherry', 1, 2)\n"
     ]
    }
   ],
   "source": [
    "# Tuple is collection in Python.\n",
    "# Tuple is Immutable(No Changeable at Runtime).\n",
    "# Tuple allows multiple datatype values to be store.\n",
    "# Tuple is working on index value starting from zero(0).\n",
    "\n",
    "#How to create Tuple\n",
    "t1=(\"Apple\",\"Mango\",\"Orange\",\"Cherry\",1,2,3,4,5,6,10.5,12.5,5,\"Apple\")\n",
    "print(t1)\n",
    "\n",
    "print(\"\")\n",
    "\n",
    "#How to check a length of Tuple\n",
    "print(\"lenth of Tuple : \",len(t1))\n",
    "\n",
    "print(\"\")\n",
    "\n",
    "#Accessing the value by using index\n",
    "print(\"Index value : \",t1[3])\n",
    "\n",
    "print(\"\")\n",
    "\n",
    "#Accessing the value between index 1 to 6\n",
    "print(\"Index between : \",t1[1:6])\n",
    "\n",
    "print(\"\")\n",
    "\n",
    "#Accessing the last value\n",
    "print(\"Index  last value: \",t1[-1])\n",
    "\n",
    "print(\"\")\n",
    "\n",
    "#Accessing the value till 6\n",
    "print(\"Value till index : \",t1[:6])"
   ]
  },
  {
   "cell_type": "code",
   "execution_count": 16,
   "id": "be33c65b",
   "metadata": {},
   "outputs": [
    {
     "name": "stdout",
     "output_type": "stream",
     "text": [
      "['Apple', 'Mango', 'Orange', 'Cherry', 1, 2, 3, 4, 5, 6, 10.5, 12.5, 5, 'Apple']\n"
     ]
    }
   ],
   "source": [
    "# Convert Tuple into List\n",
    "\n",
    "t1=(\"Apple\",\"Mango\",\"Orange\",\"Cherry\",1,2,3,4,5,6,10.5,12.5,5,\"Apple\")\n",
    "\n",
    "x= list(t1)\n",
    "print(x)"
   ]
  },
  {
   "cell_type": "code",
   "execution_count": 17,
   "id": "b5f17a3c",
   "metadata": {},
   "outputs": [
    {
     "name": "stdout",
     "output_type": "stream",
     "text": [
      "('Apple', 'Mango', 'Orange', 'Cherry')\n"
     ]
    }
   ],
   "source": [
    "# Tuple Constructor\n",
    "t2= tuple((\"Apple\",\"Mango\",\"Orange\",\"Cherry\")) #note the double round-brackets\n",
    "print(t2)"
   ]
  },
  {
   "cell_type": "code",
   "execution_count": 20,
   "id": "05831869",
   "metadata": {},
   "outputs": [
    {
     "name": "stdout",
     "output_type": "stream",
     "text": [
      "('Apple', 'Mango', 'licthi', 'Orange', 'Cherry')\n"
     ]
    }
   ],
   "source": [
    "# Add item but after coverting tuple into list\n",
    "t1=(\"Apple\",\"Mango\",\"Orange\",\"Cherry\")\n",
    "x=list(t1)\n",
    "x.insert(2,\"licthi\")\n",
    "z=tuple(x)\n",
    "print(z)"
   ]
  },
  {
   "cell_type": "code",
   "execution_count": 30,
   "id": "a220be66",
   "metadata": {},
   "outputs": [
    {
     "name": "stdout",
     "output_type": "stream",
     "text": [
      "Apple\n",
      "Mango\n",
      "Orange\n",
      "Cherry\n",
      "\n",
      "Apple\n",
      "Mango\n",
      "Orange\n",
      "Cherry\n",
      "loop finish\n"
     ]
    }
   ],
   "source": [
    "#for loops with tuple\n",
    "\n",
    "t1=(\"Apple\",\"Mango\",\"Orange\",\"Cherry\")\n",
    "for i in t1:\n",
    "    print(i)\n",
    "\n",
    "print(\"\")    \n",
    "#while loop with tuple\n",
    "i=0\n",
    "while i<len(t1):\n",
    "    print(t1[i])\n",
    "    i=i+1\n",
    "else:\n",
    "    print(\"loop finish\")\n",
    "    "
   ]
  },
  {
   "cell_type": "code",
   "execution_count": 32,
   "id": "872ab03f",
   "metadata": {},
   "outputs": [
    {
     "name": "stdout",
     "output_type": "stream",
     "text": [
      "False\n",
      "True\n"
     ]
    }
   ],
   "source": [
    "#How to compare Tuples\n",
    "\n",
    "t1=(1,2,3)\n",
    "t2=(1,2,4)\n",
    "print(t1==t2)\n",
    "print(t1<t2)"
   ]
  },
  {
   "cell_type": "markdown",
   "id": "229a4228",
   "metadata": {},
   "source": [
    "# Dictionary"
   ]
  },
  {
   "cell_type": "code",
   "execution_count": 34,
   "id": "9f9e801d",
   "metadata": {},
   "outputs": [],
   "source": [
    "# Dictionary is a collection of python, which works on key and value pair.\n",
    "# Dictionary follows the ordered container or collection.\n",
    "# Dictionary has immutable key and value could be immutable and mutable both\n",
    "#  which depends upon what value you are storing."
   ]
  },
  {
   "cell_type": "code",
   "execution_count": 36,
   "id": "9d1d3f08",
   "metadata": {},
   "outputs": [
    {
     "name": "stdout",
     "output_type": "stream",
     "text": [
      "{1: 'Apple', 2: 'Mango', 3: 'Orange', 4: 'Cherry'}\n",
      "<class 'dict'>\n"
     ]
    }
   ],
   "source": [
    "d1={1:\"Apple\",2:\"Mango\",3:\"Orange\",4:\"Cherry\"}\n",
    "print(d1)\n",
    "print(type(d1))"
   ]
  },
  {
   "cell_type": "code",
   "execution_count": 42,
   "id": "74020b47",
   "metadata": {},
   "outputs": [
    {
     "name": "stdout",
     "output_type": "stream",
     "text": [
      "{1: 'python', 2: 'java', 'fruits': ['Apple', 'Mango', 'Orange', 'Cherry']}\n",
      "\n",
      "{1: 'python', 2: 'java', 'fruits': ('Apple', 'Mango', 'Orange', 'Cherry')}\n"
     ]
    }
   ],
   "source": [
    "#list into Dictonary store\n",
    "d1={1:\"python\",2:\"java\",\"fruits\":[\"Apple\",\"Mango\",\"Orange\",\"Cherry\"]}\n",
    "print(d1)\n",
    "\n",
    "print(\"\")\n",
    "\n",
    "# tuple into Dictonary store\n",
    "d1={1:\"python\",2:\"java\",\"fruits\":(\"Apple\",\"Mango\",\"Orange\",\"Cherry\")}\n",
    "print(d1)"
   ]
  },
  {
   "cell_type": "code",
   "execution_count": 58,
   "id": "cb8c6631",
   "metadata": {},
   "outputs": [
    {
     "name": "stdout",
     "output_type": "stream",
     "text": [
      "Orange\n",
      "Mango\n",
      "dict_items([(1, 'Apple'), (2, 'Mango'), (3, 'Orange'), (4, 'Cherry')])\n",
      "dict_keys([1, 2, 3, 4])\n",
      "dict_values(['Apple', 'Mango', 'Orange', 'Cherry'])\n"
     ]
    }
   ],
   "source": [
    "#Access the value of Dictonary\n",
    "d1={1:\"Apple\",2:\"Mango\",3:\"Orange\",4:\"Cherry\"}\n",
    "\n",
    "#Access the value using key\n",
    "x= d1[3]\n",
    "print(x)\n",
    "\n",
    "#Access the value using get()\n",
    "x=d1.get(2)\n",
    "print(x)\n",
    "\n",
    "#Access the value using items()\n",
    "x=d1.items()\n",
    "print(x)\n",
    "\n",
    "#Access the only keys from Dictionary\n",
    "x=d1.keys()\n",
    "print(x)\n",
    "\n",
    "#Access the only values from Dictionary\n",
    "x=d1.values()\n",
    "print(x)"
   ]
  },
  {
   "cell_type": "code",
   "execution_count": 51,
   "id": "9dc02c44",
   "metadata": {},
   "outputs": [
    {
     "name": "stdout",
     "output_type": "stream",
     "text": [
      "{1: 'Apple', 2: 'Mango', 3: 'kiwi', 4: 'Cherry'}\n",
      "{1: 'Apple', 2: 'Banana', 3: 'kiwi', 4: 'Cherry'}\n"
     ]
    }
   ],
   "source": [
    "# Change the value\n",
    "d1={1:\"Apple\",2:\"Mango\",3:\"Orange\",4:\"Cherry\"}\n",
    "d1[3]=\"kiwi\"\n",
    "print(d1)\n",
    "\n",
    "#update dictionary by using update()\n",
    "d1.update({2:\"Banana\"})\n",
    "print(d1)"
   ]
  },
  {
   "cell_type": "code",
   "execution_count": 56,
   "id": "253b4c7d",
   "metadata": {},
   "outputs": [
    {
     "name": "stdout",
     "output_type": "stream",
     "text": [
      "{1: 'Apple', 3: 'Orange', 4: 'Cherry'}\n",
      "{1: 'Apple', 2: 'Mango', 3: 'Orange'}\n",
      "{2: 'Mango', 3: 'Orange', 4: 'Cherry'}\n",
      "{}\n"
     ]
    }
   ],
   "source": [
    "#Remove values from dictionary\n",
    "\n",
    "#using pop method\n",
    "d1={1:\"Apple\",2:\"Mango\",3:\"Orange\",4:\"Cherry\"}\n",
    "d1.pop(2)\n",
    "print(d1)\n",
    "\n",
    "# using pop item        #remove last value\n",
    "d1={1:\"Apple\",2:\"Mango\",3:\"Orange\",4:\"Cherry\"}\n",
    "d1.popitem()\n",
    "print(d1)\n",
    "\n",
    "#using del()\n",
    "d1={1:\"Apple\",2:\"Mango\",3:\"Orange\",4:\"Cherry\"}\n",
    "del d1[1]\n",
    "print(d1)\n",
    "\n",
    "#using clear()\n",
    "d1={1:\"Apple\",2:\"Mango\",3:\"Orange\",4:\"Cherry\"}\n",
    "d1.clear()\n",
    "print(d1)"
   ]
  },
  {
   "cell_type": "markdown",
   "id": "545d305f",
   "metadata": {},
   "source": [
    "# Functions"
   ]
  },
  {
   "cell_type": "code",
   "execution_count": 59,
   "id": "6cbd372c",
   "metadata": {},
   "outputs": [],
   "source": [
    "# Function is a block of code which only runs when is called.\n",
    "# Function is also used for reusability of code.\n",
    "# Function is start with \"def\" keyword\n",
    "\n",
    "# Types of Functions\n",
    "#     Built-in Function\n",
    "#     User-define Function\n",
    "#     Anonymous Function\n"
   ]
  },
  {
   "cell_type": "code",
   "execution_count": null,
   "id": "0116b8c4",
   "metadata": {},
   "outputs": [],
   "source": [
    "# In-built Function\n",
    "# Print()\n",
    "# range()\n",
    "# len()\n",
    "# Round()\n",
    "# Max()\n",
    "# Min()"
   ]
  },
  {
   "cell_type": "code",
   "execution_count": 17,
   "id": "9136009e",
   "metadata": {
    "scrolled": true
   },
   "outputs": [
    {
     "name": "stdout",
     "output_type": "stream",
     "text": [
      "sumit das\n",
      "10\n",
      "15\n",
      "20\n",
      "yogi\n",
      "I am from : Delhi\n",
      "I am from : mumbai\n",
      "Apple\n",
      "Mango\n",
      "Orange\n",
      "30\n",
      "Num : 5\n",
      "The factorial of  5 is : 120\n"
     ]
    }
   ],
   "source": [
    "# User-define Function\n",
    "\n",
    "#create function\n",
    "\n",
    "def myfunction():\n",
    "    print(\"sumit das\")\n",
    "    \n",
    "myfunction()\n",
    "\n",
    "\n",
    "# Function with one Argument\n",
    "\n",
    "def myfunction(a):\n",
    "    print(a)\n",
    "myfunction(10) #passing argument as a 10\n",
    "\n",
    "\n",
    "#Multiple Arguments\n",
    "def myfunction(a,b):\n",
    "    print(a)\n",
    "    print(b)\n",
    "myfunction(15,20)\n",
    "\n",
    "#Keywords arguments\n",
    "\n",
    "def myfunction(child3,child2,child1):\n",
    "    print(child3)\n",
    "\n",
    "myfunction(child2=\"Arun\",child1=\"rahul\",child3=\"yogi\")\n",
    "\n",
    "\n",
    "def myfunction(state=\"Delhi\"):\n",
    "    print(\"I am from : \"+state)\n",
    "\n",
    "myfunction()\n",
    "myfunction(\"mumbai\")\n",
    "\n",
    "#Passing a list into function\n",
    "\n",
    "def myfunction(fruit):\n",
    "    for i in fruit:\n",
    "        print(i)\n",
    "f= [\"Apple\",\"Mango\",\"Orange\"]\n",
    "myfunction(f)\n",
    "\n",
    "\n",
    "#Return Values from Function\n",
    "\n",
    "def myfunction(x):\n",
    "    return 5*x\n",
    "print(myfunction(6))\n",
    "myfunction(5)\n",
    "\n",
    "\n",
    "#Recursion Function :- The function which call itself\n",
    "\n",
    "def factorial(x):\n",
    "    if x== 1:\n",
    "        return 1\n",
    "    else:\n",
    "        return(x*factorial(x-1))\n",
    "num = int(input(\"Num : \"))\n",
    "print(\"The factorial of \",num,\"is :\",factorial(num))"
   ]
  },
  {
   "cell_type": "code",
   "execution_count": 3,
   "id": "d20ad00a",
   "metadata": {},
   "outputs": [
    {
     "name": "stdout",
     "output_type": "stream",
     "text": [
      "15\n",
      "50\n"
     ]
    }
   ],
   "source": [
    "#Anonymous Function (Lambda Function)\n",
    "\n",
    "x = lambda a: a+10\n",
    "print(x(5))\n",
    "\n",
    "#Lambda Function with multiple Arguments\n",
    "y= lambda a,b:a*b\n",
    "print(y(5,10))"
   ]
  },
  {
   "cell_type": "code",
   "execution_count": 8,
   "id": "da53d6dc",
   "metadata": {},
   "outputs": [
    {
     "name": "stdout",
     "output_type": "stream",
     "text": [
      "25\n",
      "20\n"
     ]
    }
   ],
   "source": [
    "#Global Variable :the variable can be use anywhere in the program\n",
    "\n",
    "z= 25\n",
    "def myfunction():\n",
    "    global z\n",
    "    print(z)\n",
    "    z = 20\n",
    "myfunction()\n",
    "print(z)"
   ]
  },
  {
   "cell_type": "code",
   "execution_count": 9,
   "id": "b99477e1",
   "metadata": {},
   "outputs": [
    {
     "name": "stdout",
     "output_type": "stream",
     "text": [
      "15\n"
     ]
    }
   ],
   "source": [
    "#Local Variable: The variable which can be used in it scope\n",
    "\n",
    "def sum(x,y):\n",
    "    sum = x+y\n",
    "    return sum\n",
    "print(sum(5,10))\n",
    "\n"
   ]
  },
  {
   "cell_type": "markdown",
   "id": "35f97a73",
   "metadata": {},
   "source": [
    "# Random Module"
   ]
  },
  {
   "cell_type": "code",
   "execution_count": 10,
   "id": "ec49be45",
   "metadata": {},
   "outputs": [],
   "source": [
    "# Python provide multiple inbuilt function that are used to choose or generate \n",
    "    # random number by using random module.\n",
    "\n",
    "#Random Number Operations\n",
    "\n",
    "#    Choice():choice() is inbuilt function of random module, which is used to\n",
    "#        return random number from list, tuple,set.\n",
    "#    Randint(): randint()is inbuilt function of random module, which is used to\n",
    "#        generate random number from particular given range.\n",
    "#    Shuffle():shuffle() is inbuilt function of random module, which is used to\n",
    "#        shuffle a value of list\n"
   ]
  },
  {
   "cell_type": "code",
   "execution_count": 11,
   "id": "af2a968e",
   "metadata": {},
   "outputs": [],
   "source": [
    "# import Random\n",
    "\n",
    "# from random import functionname    1st method\n",
    "\n",
    "#import random 2nd method\n"
   ]
  },
  {
   "cell_type": "code",
   "execution_count": 11,
   "id": "3cbccc06",
   "metadata": {},
   "outputs": [
    {
     "name": "stdout",
     "output_type": "stream",
     "text": [
      "1\n"
     ]
    }
   ],
   "source": [
    "#choice()\n",
    "# from random import choice\n",
    "import random\n",
    "l1 = [1,2,3,4,5,6,7,8,9,10]\n",
    "print(random.choice(l1))"
   ]
  },
  {
   "cell_type": "code",
   "execution_count": 7,
   "id": "ffb0aff5",
   "metadata": {},
   "outputs": [
    {
     "name": "stdout",
     "output_type": "stream",
     "text": [
      "Your Otp :  321428\n"
     ]
    }
   ],
   "source": [
    "#Randint()\n",
    "import random\n",
    "otp = random.randint(100000,999999)\n",
    "print(\"Your Otp : \",otp)"
   ]
  },
  {
   "cell_type": "code",
   "execution_count": 14,
   "id": "c4cf4771",
   "metadata": {},
   "outputs": [
    {
     "name": "stdout",
     "output_type": "stream",
     "text": [
      "[8, 3, 2, 10, 4, 6, 1, 7, 5, 9]\n"
     ]
    }
   ],
   "source": [
    "#Shuffle()\n",
    "import random\n",
    "random.shuffle(l1)\n",
    "print(l1)"
   ]
  },
  {
   "cell_type": "markdown",
   "id": "e0849214",
   "metadata": {},
   "source": [
    "# Math Module"
   ]
  },
  {
   "cell_type": "code",
   "execution_count": null,
   "id": "661886b3",
   "metadata": {},
   "outputs": [],
   "source": [
    "# Math Module is used to do a mathematical task in python by importing \"math\".\n",
    "\n",
    "# Factorial() : this function return factorial number.\n",
    "# Ceil() : This function is used to round up of the integer.\n",
    "# Floor() : This function is used to round down of the integer.\n",
    "# Sqrt() : This function is used to return square root of the value.\n",
    "\n",
    "\n",
    "# Import math\n"
   ]
  },
  {
   "cell_type": "code",
   "execution_count": 26,
   "id": "065588dd",
   "metadata": {},
   "outputs": [
    {
     "name": "stdout",
     "output_type": "stream",
     "text": [
      "1\n",
      "2\n",
      "6\n",
      "362880\n",
      "479001600\n",
      "6227020800\n"
     ]
    }
   ],
   "source": [
    "#Factorial()\n",
    "import math\n",
    "x=13\n",
    "print(math.factorial(1))\n",
    "print(math.factorial(2))\n",
    "print(math.factorial(3))\n",
    "print(math.factorial(9))\n",
    "print(math.factorial(12))\n",
    "print(math.factorial(x))"
   ]
  },
  {
   "cell_type": "code",
   "execution_count": 24,
   "id": "a505d5ba",
   "metadata": {},
   "outputs": [
    {
     "name": "stdout",
     "output_type": "stream",
     "text": [
      "2\n",
      "6\n"
     ]
    }
   ],
   "source": [
    "#ceil()\n",
    "import math\n",
    "x= 5.6\n",
    "print(math.ceil(1.1))  #nearest upper integer value\n",
    "print(math.ceil(x))\n"
   ]
  },
  {
   "cell_type": "code",
   "execution_count": 25,
   "id": "6d6e9eb7",
   "metadata": {},
   "outputs": [
    {
     "name": "stdout",
     "output_type": "stream",
     "text": [
      "1\n",
      "5\n"
     ]
    }
   ],
   "source": [
    "#floor()\n",
    "import math\n",
    "\n",
    "print(math.floor(1.9)) #nearest down integer value\n",
    "print(math.floor(x))"
   ]
  },
  {
   "cell_type": "code",
   "execution_count": 27,
   "id": "942c6cf2",
   "metadata": {},
   "outputs": [
    {
     "name": "stdout",
     "output_type": "stream",
     "text": [
      "5.0\n",
      "12.0\n"
     ]
    }
   ],
   "source": [
    "#sqrt()\n",
    "import math\n",
    "x=144\n",
    "print(math.sqrt(25))\n",
    "print(math.sqrt(x))"
   ]
  },
  {
   "cell_type": "code",
   "execution_count": null,
   "id": "c40aee7e",
   "metadata": {},
   "outputs": [],
   "source": []
  }
 ],
 "metadata": {
  "kernelspec": {
   "display_name": "Python 3 (ipykernel)",
   "language": "python",
   "name": "python3"
  },
  "language_info": {
   "codemirror_mode": {
    "name": "ipython",
    "version": 3
   },
   "file_extension": ".py",
   "mimetype": "text/x-python",
   "name": "python",
   "nbconvert_exporter": "python",
   "pygments_lexer": "ipython3",
   "version": "3.11.0"
  }
 },
 "nbformat": 4,
 "nbformat_minor": 5
}
