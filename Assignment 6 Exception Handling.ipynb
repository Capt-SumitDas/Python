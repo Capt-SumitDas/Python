{
 "cells": [
  {
   "cell_type": "markdown",
   "id": "afd53c6e",
   "metadata": {},
   "source": [
    "## Assignment 6 Exception Handling"
   ]
  },
  {
   "cell_type": "code",
   "execution_count": null,
   "id": "67260e46",
   "metadata": {},
   "outputs": [],
   "source": [
    "# 1) Write a Program to input two numbers from the user and check it's an integer or not using try and except.\n",
    "\n",
    "# 2) Write a program to input a string from the user evaluate using try and except.\n",
    "\n",
    "# 3) Write a program to input two number from the user and check its an integer or not using Try and Except, if number are integer then the print sum of that number using finally block.\n",
    "\n",
    "# 4) Write a program to input two number from the user and handle your exception using else.\n",
    "\n",
    "# 5) Write a program to print multiple except block.\n"
   ]
  }
 ],
 "metadata": {
  "kernelspec": {
   "display_name": "Python 3 (ipykernel)",
   "language": "python",
   "name": "python3"
  },
  "language_info": {
   "codemirror_mode": {
    "name": "ipython",
    "version": 3
   },
   "file_extension": ".py",
   "mimetype": "text/x-python",
   "name": "python",
   "nbconvert_exporter": "python",
   "pygments_lexer": "ipython3",
   "version": "3.11.0"
  }
 },
 "nbformat": 4,
 "nbformat_minor": 5
}
