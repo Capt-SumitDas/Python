{
 "cells": [
  {
   "cell_type": "markdown",
   "id": "1852cfb2",
   "metadata": {},
   "source": [
    "## Assignment 5 File Handling"
   ]
  },
  {
   "cell_type": "code",
   "execution_count": null,
   "id": "855c5233",
   "metadata": {},
   "outputs": [],
   "source": [
    "# 1) Write a program to create a.Txt File And Read An Entire Text File.\n",
    "\n",
    "# 2) Write a program to Read First N Lines of a File.\n",
    "\n",
    "# 3) Write a program To append text to a file and display the text.\n",
    "\n",
    "# 4) Write a program to Store given list [\"Apple\",\"Mango\",\"Orange\"] into File.\n",
    "\n",
    "# 5) Write a program to Read list from the file.\n"
   ]
  }
 ],
 "metadata": {
  "kernelspec": {
   "display_name": "Python 3 (ipykernel)",
   "language": "python",
   "name": "python3"
  },
  "language_info": {
   "codemirror_mode": {
    "name": "ipython",
    "version": 3
   },
   "file_extension": ".py",
   "mimetype": "text/x-python",
   "name": "python",
   "nbconvert_exporter": "python",
   "pygments_lexer": "ipython3",
   "version": "3.11.0"
  }
 },
 "nbformat": 4,
 "nbformat_minor": 5
}
