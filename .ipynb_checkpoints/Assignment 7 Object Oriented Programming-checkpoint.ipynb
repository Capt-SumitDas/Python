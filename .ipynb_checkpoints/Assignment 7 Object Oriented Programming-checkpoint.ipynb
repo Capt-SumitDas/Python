{
 "cells": [
  {
   "cell_type": "markdown",
   "id": "9b8183e7",
   "metadata": {},
   "source": [
    "## Assignment 7 Object Oriented Programming"
   ]
  },
  {
   "cell_type": "code",
   "execution_count": null,
   "id": "404428ed",
   "metadata": {},
   "outputs": [],
   "source": [
    "# 1) Create Vehicle class and call the method of a class.\n",
    "\n",
    "# 2) Create Vehicle class and create one method without any body.\n",
    "\n",
    "# 3) Create a Vehicle class and perform method overloading in class.\n",
    "\n",
    "# 4) Create child class Bus that will be inherit all of the methods of the Vechicle class.\n",
    "\n",
    "# 5) Create a Vehicle class and create method of the class and same are integrate with another class.\n",
    "\n"
   ]
  }
 ],
 "metadata": {
  "kernelspec": {
   "display_name": "Python 3 (ipykernel)",
   "language": "python",
   "name": "python3"
  },
  "language_info": {
   "codemirror_mode": {
    "name": "ipython",
    "version": 3
   },
   "file_extension": ".py",
   "mimetype": "text/x-python",
   "name": "python",
   "nbconvert_exporter": "python",
   "pygments_lexer": "ipython3",
   "version": "3.11.0"
  }
 },
 "nbformat": 4,
 "nbformat_minor": 5
}
