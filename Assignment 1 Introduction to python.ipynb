{
 "cells": [
  {
   "cell_type": "markdown",
   "id": "e993dfee",
   "metadata": {},
   "source": [
    "## Assignment 1 Introduction to python"
   ]
  },
  {
   "cell_type": "code",
   "execution_count": null,
   "id": "dfc7f96e",
   "metadata": {},
   "outputs": [],
   "source": [
    "# 1) Write a program to print a string \"Hello Python\"\n",
    "# 2) Write a program to store one value in variable and print that variable.\n",
    "# 3) Write a program to take value from user input and print that value.\n",
    "# 4) Write a program to do a sum of two value.\n",
    "# 5) Write a program to perform division using variables\n",
    "# 6) Write a program to print multiple value of variables\n",
    "# 7) Write a program to find a type of variable\n",
    "# 8) Write a program to take two integer value from the user and check both the value from the user and check both the values are same."
   ]
  },
  {
   "cell_type": "code",
   "execution_count": null,
   "id": "e7770eb4",
   "metadata": {},
   "outputs": [],
   "source": []
  }
 ],
 "metadata": {
  "kernelspec": {
   "display_name": "Python 3 (ipykernel)",
   "language": "python",
   "name": "python3"
  },
  "language_info": {
   "codemirror_mode": {
    "name": "ipython",
    "version": 3
   },
   "file_extension": ".py",
   "mimetype": "text/x-python",
   "name": "python",
   "nbconvert_exporter": "python",
   "pygments_lexer": "ipython3",
   "version": "3.11.0"
  }
 },
 "nbformat": 4,
 "nbformat_minor": 5
}
