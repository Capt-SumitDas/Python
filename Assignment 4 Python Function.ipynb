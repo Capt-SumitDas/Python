{
 "cells": [
  {
   "cell_type": "markdown",
   "id": "879ae785",
   "metadata": {},
   "source": [
    "## Assignment 4 Python Function"
   ]
  },
  {
   "cell_type": "code",
   "execution_count": null,
   "id": "91187cd5",
   "metadata": {},
   "outputs": [],
   "source": [
    "# 1) Create a function that can accept two arguments name and subject and print value.\n",
    "\n",
    "# 2) Write a function sum() such that it can accept two number arguments and print the sum of two arguments.\n",
    "\n",
    "# 3) Write a function calculation() such that it accept two variable and calculate the addition, subtraction and division.\n",
    "\n",
    "# 4) Write a recursive function to calculate the sum of number from 0 to 10.\n",
    "\n",
    "# 5) Create a function without any name that can accept two argument and then print sum of its value.\n",
    "\n",
    "# 6) Write a program to generate a random number between 1000 to 5000 using python inbuilt module.\n",
    "\n",
    "# 7) Write a program to generate a random captcha list, using python inbuilt module.\n",
    "\n",
    "# 8) Write a program to shuffle captcha list, using python inbuilt module.\n"
   ]
  }
 ],
 "metadata": {
  "kernelspec": {
   "display_name": "Python 3 (ipykernel)",
   "language": "python",
   "name": "python3"
  },
  "language_info": {
   "codemirror_mode": {
    "name": "ipython",
    "version": 3
   },
   "file_extension": ".py",
   "mimetype": "text/x-python",
   "name": "python",
   "nbconvert_exporter": "python",
   "pygments_lexer": "ipython3",
   "version": "3.11.0"
  }
 },
 "nbformat": 4,
 "nbformat_minor": 5
}
