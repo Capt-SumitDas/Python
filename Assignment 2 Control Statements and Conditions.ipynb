{
 "cells": [
  {
   "cell_type": "markdown",
   "id": "e240fcfe",
   "metadata": {},
   "source": [
    "## Assignment 2 Control Statements and Conditions"
   ]
  },
  {
   "cell_type": "code",
   "execution_count": null,
   "id": "dd28a0f5",
   "metadata": {},
   "outputs": [],
   "source": [
    "# 1) Write a program to find whether a given number (accept from the user) is even or odd and print the message to the user accordingly.\n",
    "\n",
    "# 2) Write a program to find whether a given number (accept from the user) is greater then or leass then and print the message to the user accordingly.\n",
    "\n",
    "# 3) Write a program to find out the grade of given percentage value (accept from the user) and print the message according given criteria:\n",
    "#         - Greater then 70 % print A grade message to the user.\n",
    "#         - Greater then 65% and less then 70% print B+ grade message to the user.\n",
    "#         - Greater then 60% and less then 65% print B grade message to the user.\n",
    "#         - Greater then 55% and less then 60% print C grade message to the user.\n",
    "#         - Less then 55% print Fail message to the user.\n",
    "    \n",
    "# 4) Write program to generate 1 to 10 value using the loop.\n",
    "\n",
    "# 5) Write a program to generate 10 to 1 values using the for loop.\n",
    "\n",
    "# 6) Write a program to print following pattern:\n",
    "#     *\n",
    "#     **\n",
    "#     ***\n",
    "#     ****\n",
    "#     *****\n",
    "\n",
    "# 7) Write a program to print following pattern:\n",
    "#     1\n",
    "#     12\n",
    "#     123\n",
    "#     1234\n",
    "    \n",
    "# 8) Write a program to convert this string \"hello python\" into uppercase using string built-in function.\n",
    "\n",
    "# 9) Write a program to convert this string \"HELLO PYTHON\" into lowercase using string built-in function.\n",
    "\n"
   ]
  }
 ],
 "metadata": {
  "kernelspec": {
   "display_name": "Python 3 (ipykernel)",
   "language": "python",
   "name": "python3"
  },
  "language_info": {
   "codemirror_mode": {
    "name": "ipython",
    "version": 3
   },
   "file_extension": ".py",
   "mimetype": "text/x-python",
   "name": "python",
   "nbconvert_exporter": "python",
   "pygments_lexer": "ipython3",
   "version": "3.11.0"
  }
 },
 "nbformat": 4,
 "nbformat_minor": 5
}
