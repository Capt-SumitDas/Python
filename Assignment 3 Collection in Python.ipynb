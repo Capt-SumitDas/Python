{
 "cells": [
  {
   "cell_type": "markdown",
   "id": "8b49cd5e",
   "metadata": {},
   "source": [
    "## Assignment 3 Collection in Python"
   ]
  },
  {
   "cell_type": "code",
   "execution_count": null,
   "id": "a042e3fc",
   "metadata": {},
   "outputs": [],
   "source": [
    "# 1) Write a program to accept a list from the user and print the alternate element of list.\n",
    "\n",
    "# 2) Write a program to remove the element \"3\" from the given list [1,2,3,4,5,6].\n",
    "\n",
    "# 3) Write a program to insert the element \"Python\" on index 2 in the given list [\"Java\", \"Php\", \".Net\", \"Angular\"]\n",
    "\n",
    "# 4) Write a program to add element in list using for loop.\n",
    "\n",
    "# 5) Write a program to perform slicing with given tuple (\"Pyhton\",1,2,3,\"Java\",'A','B') with following slicing point:\n",
    "#     - Print alternate value of tuple.\n",
    "#     - Print value between index 1 to 5.\n",
    "#     - Print the last value of tuple.\n",
    "    \n",
    "# 6) Write a program to count element in given tuple (1,2,3,4,5,6,7,8).\n",
    "\n",
    "# 7) Write a program to convert tuple into list.\n",
    "\n",
    "# 8) Write a program to convert two given list into dictionary.\n",
    "#     List1[1,2,3,4,5], List2['A','B','C','D','E']\n",
    "    \n",
    "# 9) Write a program to print keys from the given dictionary {1:\"Apple\",2:\"Banana\",3:\"Mango\"} and print keys into list.\n",
    "\n",
    "# 10) Write a program to print values from the given dictionary {1:\"Apple\",2:\"Banana\",3:\"Mango\"} and print value into list."
   ]
  }
 ],
 "metadata": {
  "kernelspec": {
   "display_name": "Python 3 (ipykernel)",
   "language": "python",
   "name": "python3"
  },
  "language_info": {
   "codemirror_mode": {
    "name": "ipython",
    "version": 3
   },
   "file_extension": ".py",
   "mimetype": "text/x-python",
   "name": "python",
   "nbconvert_exporter": "python",
   "pygments_lexer": "ipython3",
   "version": "3.11.0"
  }
 },
 "nbformat": 4,
 "nbformat_minor": 5
}
